{
 "cells": [
  {
   "cell_type": "code",
   "execution_count": 1,
   "id": "67dc0b81",
   "metadata": {},
   "outputs": [],
   "source": [
    "import numpy as np\n",
    "import pandas as pd\n",
    "import matplotlib.pyplot as plt\n",
    "import scipy.io as io\n",
    "\n",
    "import os"
   ]
  },
  {
   "cell_type": "code",
   "execution_count": 2,
   "id": "624a1318",
   "metadata": {},
   "outputs": [],
   "source": [
    "KIN_FACE_WI = '.\\\\data\\\\KinFaceW\\\\KinFaceW-I'\n",
    "KIN_FACE_WII = '.\\\\data\\\\KinFaceW\\\\KinFaceW-II'"
   ]
  },
  {
   "cell_type": "code",
   "execution_count": 3,
   "id": "360d9f88",
   "metadata": {},
   "outputs": [],
   "source": [
    "def get_paths(base_path):\n",
    "    return {\n",
    "        'fd': base_path + '\\\\meta_data\\\\fd_pairs.mat',\n",
    "        'fs': base_path + '\\\\meta_data\\\\fs_pairs.mat',\n",
    "        'md': base_path + '\\\\meta_data\\\\md_pairs.mat',\n",
    "        'ms': base_path + '\\\\meta_data\\\\ms_pairs.mat'\n",
    "    }"
   ]
  },
  {
   "cell_type": "code",
   "execution_count": 4,
   "id": "6c16f618",
   "metadata": {},
   "outputs": [],
   "source": [
    "def load_mat_file(paths):\n",
    "    fd, fs, md, ms = paths['fd'], paths['fs'], paths['md'], paths['ms']\n",
    "    \n",
    "    return {\n",
    "        'fd': io.loadmat(fd),\n",
    "        'fs': io.loadmat(fs),\n",
    "        'md': io.loadmat(md),\n",
    "        'ms': io.loadmat(ms)\n",
    "    }"
   ]
  },
  {
   "cell_type": "code",
   "execution_count": 5,
   "id": "d74fd30d",
   "metadata": {},
   "outputs": [],
   "source": [
    "def build_df(mats):\n",
    "    folds = []\n",
    "    labels = []\n",
    "    firsts = []\n",
    "    seconds = []\n",
    "    rels = []\n",
    "    \n",
    "    fd_mat, fs_mat, md_mat, ms_mat = mats['fd'], mats['fs'], mats['md'], mats['ms']\n",
    "    rel_list = ['father_daughter', 'father_son', 'mother_daughter', 'mother_son']\n",
    "    mats = [fd_mat, fs_mat, md_mat, ms_mat]\n",
    "\n",
    "    for i in range(4):\n",
    "        for pair in mats[i]['pairs']:\n",
    "            fold, label, first, second = pair\n",
    "\n",
    "            folds.append(fold[0][0])\n",
    "            labels.append(label[0][0])\n",
    "            firsts.append(first[0])\n",
    "            seconds.append(second[0])\n",
    "            rels.append(rel_list[i])\n",
    "    \n",
    "    df = pd.DataFrame.from_dict({\n",
    "    'first': firsts,\n",
    "    'second': seconds,\n",
    "    'label': labels,\n",
    "    'fold': folds,\n",
    "    'rel': rels\n",
    "    \n",
    "    })\n",
    "    \n",
    "    return df"
   ]
  },
  {
   "cell_type": "code",
   "execution_count": 9,
   "id": "a1cfc5d5",
   "metadata": {},
   "outputs": [],
   "source": [
    "def split_folds(df):\n",
    "    images = {}\n",
    "    for i in range(1, 5):\n",
    "        fold_data = df.loc[df['fold'] == i]\n",
    "        first = set(fold_data['first'])\n",
    "        second = set(fold_data['second'])\n",
    "        \n",
    "        total = first.union(second)\n",
    "        images[i] = total\n",
    "        \n",
    "    return images"
   ]
  },
  {
   "cell_type": "code",
   "execution_count": 7,
   "id": "873c1d40",
   "metadata": {},
   "outputs": [],
   "source": [
    "def build_file(root, folds):\n",
    "    with open(root, 'w') as file:\n",
    "        for i in range(1, 5):\n",
    "            for item in folds[i]:\n",
    "                file.write(f'{item} ')\n",
    "            file.write('\\n')"
   ]
  },
  {
   "cell_type": "code",
   "execution_count": 10,
   "id": "62c10fc2",
   "metadata": {},
   "outputs": [],
   "source": [
    "df = build_df(load_mat_file(get_paths(KIN_FACE_WI)))\n",
    "images = split_folds(df)\n",
    "build_file('KinFaceWIFolds.txt', images)\n",
    "\n",
    "df = build_df(load_mat_file(get_paths(KIN_FACE_WII)))\n",
    "images = split_folds(df)\n",
    "build_file('KinFaceWIIFolds.txt', images)"
   ]
  },
  {
   "cell_type": "code",
   "execution_count": null,
   "id": "0148cb8a",
   "metadata": {},
   "outputs": [],
   "source": []
  }
 ],
 "metadata": {
  "kernelspec": {
   "display_name": "Python 3",
   "language": "python",
   "name": "python3"
  },
  "language_info": {
   "codemirror_mode": {
    "name": "ipython",
    "version": 3
   },
   "file_extension": ".py",
   "mimetype": "text/x-python",
   "name": "python",
   "nbconvert_exporter": "python",
   "pygments_lexer": "ipython3",
   "version": "3.9.5"
  }
 },
 "nbformat": 4,
 "nbformat_minor": 5
}

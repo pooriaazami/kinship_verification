{
 "cells": [
  {
   "cell_type": "code",
   "execution_count": 32,
   "id": "3e0b180c",
   "metadata": {},
   "outputs": [],
   "source": [
    "import numpy as np\n",
    "import pandas as pd\n",
    "import matplotlib.pyplot as plt\n",
    "import scipy.io as io\n",
    "\n",
    "import os"
   ]
  },
  {
   "cell_type": "code",
   "execution_count": 3,
   "id": "0dc56692",
   "metadata": {},
   "outputs": [],
   "source": [
    "KIN_FACE_WI = '.\\\\data\\\\KinFaceW\\\\KinFaceW-I'\n",
    "KIN_FACE_WII = '.\\\\data\\\\KinFaceW\\\\KinFaceW-II'"
   ]
  },
  {
   "cell_type": "code",
   "execution_count": 73,
   "id": "0e225ba9",
   "metadata": {},
   "outputs": [],
   "source": [
    "META_DATA_FD = KIN_FACE_WII + '\\\\meta_data\\\\fd_pairs.mat'\n",
    "META_DATA_FS = KIN_FACE_WII + '\\\\meta_data\\\\fs_pairs.mat'\n",
    "META_DATA_MD = KIN_FACE_WII + '\\\\meta_data\\\\md_pairs.mat'\n",
    "META_DATA_MS = KIN_FACE_WII + '\\\\meta_data\\\\ms_pairs.mat'"
   ]
  },
  {
   "cell_type": "code",
   "execution_count": 74,
   "id": "ea1d10ec",
   "metadata": {},
   "outputs": [],
   "source": [
    "fd_mat = io.loadmat(META_DATA_FD)\n",
    "fs_mat = io.loadmat(META_DATA_FS)\n",
    "md_mat = io.loadmat(META_DATA_MD)\n",
    "ms_mat = io.loadmat(META_DATA_MS)"
   ]
  },
  {
   "cell_type": "code",
   "execution_count": 75,
   "id": "9b392086",
   "metadata": {},
   "outputs": [],
   "source": [
    "fold, label, first, second = fd_mat['pairs'][0]"
   ]
  },
  {
   "cell_type": "code",
   "execution_count": 76,
   "id": "aeb071a1",
   "metadata": {},
   "outputs": [
    {
     "data": {
      "text/plain": [
       "array(['fd_240_2.jpg'], dtype='<U12')"
      ]
     },
     "execution_count": 76,
     "metadata": {},
     "output_type": "execute_result"
    }
   ],
   "source": [
    "second"
   ]
  },
  {
   "cell_type": "code",
   "execution_count": 77,
   "id": "ebfd37d0",
   "metadata": {},
   "outputs": [],
   "source": [
    "folds = []\n",
    "labels = []\n",
    "firsts = []\n",
    "seconds = []\n",
    "rels = []\n",
    "\n",
    "rel_list = ['father_daughter', 'father_son', 'mother_daughter', 'mother_son']\n",
    "mats = [fd_mat, fs_mat, md_mat, ms_mat]\n",
    "\n",
    "for i in range(4):\n",
    "    for pair in mats[i]['pairs']:\n",
    "        fold, label, first, second = pair\n",
    "\n",
    "        folds.append(fold[0][0])\n",
    "        labels.append(label[0][0])\n",
    "        firsts.append(first[0])\n",
    "        seconds.append(second[0])\n",
    "        rels.append(rel_list[i])"
   ]
  },
  {
   "cell_type": "code",
   "execution_count": 78,
   "id": "518803b7",
   "metadata": {},
   "outputs": [],
   "source": [
    "df = pd.DataFrame.from_dict({\n",
    "    'first': firsts,\n",
    "    'second': seconds,\n",
    "    'label': labels,\n",
    "    'fold': folds,\n",
    "    'rel': rels\n",
    "    \n",
    "})"
   ]
  },
  {
   "cell_type": "code",
   "execution_count": 79,
   "id": "3c1dfa73",
   "metadata": {},
   "outputs": [
    {
     "data": {
      "text/html": [
       "<div>\n",
       "<style scoped>\n",
       "    .dataframe tbody tr th:only-of-type {\n",
       "        vertical-align: middle;\n",
       "    }\n",
       "\n",
       "    .dataframe tbody tr th {\n",
       "        vertical-align: top;\n",
       "    }\n",
       "\n",
       "    .dataframe thead th {\n",
       "        text-align: right;\n",
       "    }\n",
       "</style>\n",
       "<table border=\"1\" class=\"dataframe\">\n",
       "  <thead>\n",
       "    <tr style=\"text-align: right;\">\n",
       "      <th></th>\n",
       "      <th>first</th>\n",
       "      <th>second</th>\n",
       "      <th>label</th>\n",
       "      <th>fold</th>\n",
       "      <th>rel</th>\n",
       "    </tr>\n",
       "  </thead>\n",
       "  <tbody>\n",
       "    <tr>\n",
       "      <th>0</th>\n",
       "      <td>fd_240_1.jpg</td>\n",
       "      <td>fd_240_2.jpg</td>\n",
       "      <td>1</td>\n",
       "      <td>1</td>\n",
       "      <td>father_daughter</td>\n",
       "    </tr>\n",
       "    <tr>\n",
       "      <th>1</th>\n",
       "      <td>fd_024_1.jpg</td>\n",
       "      <td>fd_024_2.jpg</td>\n",
       "      <td>1</td>\n",
       "      <td>1</td>\n",
       "      <td>father_daughter</td>\n",
       "    </tr>\n",
       "    <tr>\n",
       "      <th>2</th>\n",
       "      <td>fd_220_1.jpg</td>\n",
       "      <td>fd_220_2.jpg</td>\n",
       "      <td>1</td>\n",
       "      <td>1</td>\n",
       "      <td>father_daughter</td>\n",
       "    </tr>\n",
       "    <tr>\n",
       "      <th>3</th>\n",
       "      <td>fd_092_1.jpg</td>\n",
       "      <td>fd_092_2.jpg</td>\n",
       "      <td>1</td>\n",
       "      <td>1</td>\n",
       "      <td>father_daughter</td>\n",
       "    </tr>\n",
       "    <tr>\n",
       "      <th>4</th>\n",
       "      <td>fd_155_1.jpg</td>\n",
       "      <td>fd_155_2.jpg</td>\n",
       "      <td>1</td>\n",
       "      <td>1</td>\n",
       "      <td>father_daughter</td>\n",
       "    </tr>\n",
       "    <tr>\n",
       "      <th>...</th>\n",
       "      <td>...</td>\n",
       "      <td>...</td>\n",
       "      <td>...</td>\n",
       "      <td>...</td>\n",
       "      <td>...</td>\n",
       "    </tr>\n",
       "    <tr>\n",
       "      <th>1945</th>\n",
       "      <td>ms_086_1.jpg</td>\n",
       "      <td>ms_086_2.jpg</td>\n",
       "      <td>1</td>\n",
       "      <td>5</td>\n",
       "      <td>mother_son</td>\n",
       "    </tr>\n",
       "    <tr>\n",
       "      <th>1946</th>\n",
       "      <td>ms_245_1.jpg</td>\n",
       "      <td>ms_245_2.jpg</td>\n",
       "      <td>1</td>\n",
       "      <td>5</td>\n",
       "      <td>mother_son</td>\n",
       "    </tr>\n",
       "    <tr>\n",
       "      <th>1947</th>\n",
       "      <td>ms_100_1.jpg</td>\n",
       "      <td>ms_100_2.jpg</td>\n",
       "      <td>1</td>\n",
       "      <td>5</td>\n",
       "      <td>mother_son</td>\n",
       "    </tr>\n",
       "    <tr>\n",
       "      <th>1948</th>\n",
       "      <td>ms_127_1.jpg</td>\n",
       "      <td>ms_127_2.jpg</td>\n",
       "      <td>1</td>\n",
       "      <td>5</td>\n",
       "      <td>mother_son</td>\n",
       "    </tr>\n",
       "    <tr>\n",
       "      <th>1949</th>\n",
       "      <td>ms_200_1.jpg</td>\n",
       "      <td>ms_200_2.jpg</td>\n",
       "      <td>1</td>\n",
       "      <td>5</td>\n",
       "      <td>mother_son</td>\n",
       "    </tr>\n",
       "  </tbody>\n",
       "</table>\n",
       "<p>1000 rows × 5 columns</p>\n",
       "</div>"
      ],
      "text/plain": [
       "             first        second  label  fold              rel\n",
       "0     fd_240_1.jpg  fd_240_2.jpg      1     1  father_daughter\n",
       "1     fd_024_1.jpg  fd_024_2.jpg      1     1  father_daughter\n",
       "2     fd_220_1.jpg  fd_220_2.jpg      1     1  father_daughter\n",
       "3     fd_092_1.jpg  fd_092_2.jpg      1     1  father_daughter\n",
       "4     fd_155_1.jpg  fd_155_2.jpg      1     1  father_daughter\n",
       "...            ...           ...    ...   ...              ...\n",
       "1945  ms_086_1.jpg  ms_086_2.jpg      1     5       mother_son\n",
       "1946  ms_245_1.jpg  ms_245_2.jpg      1     5       mother_son\n",
       "1947  ms_100_1.jpg  ms_100_2.jpg      1     5       mother_son\n",
       "1948  ms_127_1.jpg  ms_127_2.jpg      1     5       mother_son\n",
       "1949  ms_200_1.jpg  ms_200_2.jpg      1     5       mother_son\n",
       "\n",
       "[1000 rows x 5 columns]"
      ]
     },
     "execution_count": 79,
     "metadata": {},
     "output_type": "execute_result"
    }
   ],
   "source": [
    "df.loc[df['label']==1]"
   ]
  },
  {
   "cell_type": "code",
   "execution_count": 80,
   "id": "e8d766a8",
   "metadata": {},
   "outputs": [],
   "source": [
    "df.to_csv('KinFaceWII.csv')"
   ]
  },
  {
   "cell_type": "code",
   "execution_count": 81,
   "id": "13277c1a",
   "metadata": {},
   "outputs": [
    {
     "data": {
      "text/plain": [
       "2000"
      ]
     },
     "execution_count": 81,
     "metadata": {},
     "output_type": "execute_result"
    }
   ],
   "source": []
  },
  {
   "cell_type": "code",
   "execution_count": null,
   "id": "e9f90cf6",
   "metadata": {},
   "outputs": [],
   "source": []
  }
 ],
 "metadata": {
  "kernelspec": {
   "display_name": "Python 3",
   "language": "python",
   "name": "python3"
  },
  "language_info": {
   "codemirror_mode": {
    "name": "ipython",
    "version": 3
   },
   "file_extension": ".py",
   "mimetype": "text/x-python",
   "name": "python",
   "nbconvert_exporter": "python",
   "pygments_lexer": "ipython3",
   "version": "3.9.5"
  }
 },
 "nbformat": 4,
 "nbformat_minor": 5
}

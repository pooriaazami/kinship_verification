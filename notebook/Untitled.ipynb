{
 "cells": [
  {
   "cell_type": "code",
   "execution_count": 56,
   "id": "4e4f6f8b",
   "metadata": {},
   "outputs": [],
   "source": [
    "import pandas as pd\n",
    "import numpy as np\n",
    "\n",
    "import matplotlib.pyplot as plt\n",
    "import seaborn as sns"
   ]
  },
  {
   "cell_type": "code",
   "execution_count": 15,
   "id": "eb5b1817",
   "metadata": {},
   "outputs": [],
   "source": [
    "ANCHOR_NEG = '..\\\\anchor_neg_df.csv'\n",
    "ANCHOR_POS = '..\\\\anchor_pos_df.csv'"
   ]
  },
  {
   "cell_type": "code",
   "execution_count": 16,
   "id": "72f59682",
   "metadata": {},
   "outputs": [],
   "source": [
    "anchor_neg_df = pd.read_csv(ANCHOR_NEG)\n",
    "anchor_pos_df = pd.read_csv(ANCHOR_POS)"
   ]
  },
  {
   "cell_type": "code",
   "execution_count": 17,
   "id": "de3311ee",
   "metadata": {},
   "outputs": [],
   "source": [
    "anchor_neg_df.drop(columns=['Unnamed: 0'], inplace=True)\n",
    "anchor_pos_df.drop(columns=['Unnamed: 0'], inplace=True)"
   ]
  },
  {
   "cell_type": "code",
   "execution_count": 18,
   "id": "1d025228",
   "metadata": {},
   "outputs": [
    {
     "data": {
      "text/html": [
       "<div>\n",
       "<style scoped>\n",
       "    .dataframe tbody tr th:only-of-type {\n",
       "        vertical-align: middle;\n",
       "    }\n",
       "\n",
       "    .dataframe tbody tr th {\n",
       "        vertical-align: top;\n",
       "    }\n",
       "\n",
       "    .dataframe thead th {\n",
       "        text-align: right;\n",
       "    }\n",
       "</style>\n",
       "<table border=\"1\" class=\"dataframe\">\n",
       "  <thead>\n",
       "    <tr style=\"text-align: right;\">\n",
       "      <th></th>\n",
       "      <th>anchor</th>\n",
       "      <th>pos</th>\n",
       "    </tr>\n",
       "  </thead>\n",
       "  <tbody>\n",
       "    <tr>\n",
       "      <th>0</th>\n",
       "      <td>data\\KinFaceW\\KinFaceW-I\\mother-dau\\md_031_1.jpg</td>\n",
       "      <td>data\\KinFaceW\\KinFaceW-I\\mother-dau\\md_031_2.jpg</td>\n",
       "    </tr>\n",
       "    <tr>\n",
       "      <th>1</th>\n",
       "      <td>data\\KinFaceW\\KinFaceW-I\\mother-son\\ms_055_2.jpg</td>\n",
       "      <td>data\\KinFaceW\\KinFaceW-I\\mother-son\\ms_055_1.jpg</td>\n",
       "    </tr>\n",
       "    <tr>\n",
       "      <th>2</th>\n",
       "      <td>data\\KinFaceW\\KinFaceW-I\\father-son\\fs_124_1.jpg</td>\n",
       "      <td>data\\KinFaceW\\KinFaceW-I\\father-son\\fs_124_2.jpg</td>\n",
       "    </tr>\n",
       "    <tr>\n",
       "      <th>3</th>\n",
       "      <td>data\\KinFaceW\\KinFaceW-I\\father-dau\\fd_124_2.jpg</td>\n",
       "      <td>data\\KinFaceW\\KinFaceW-I\\father-dau\\fd_124_1.jpg</td>\n",
       "    </tr>\n",
       "    <tr>\n",
       "      <th>4</th>\n",
       "      <td>data\\KinFaceW\\KinFaceW-I\\father-dau\\fd_055_2.jpg</td>\n",
       "      <td>data\\KinFaceW\\KinFaceW-I\\father-dau\\fd_055_1.jpg</td>\n",
       "    </tr>\n",
       "  </tbody>\n",
       "</table>\n",
       "</div>"
      ],
      "text/plain": [
       "                                             anchor  \\\n",
       "0  data\\KinFaceW\\KinFaceW-I\\mother-dau\\md_031_1.jpg   \n",
       "1  data\\KinFaceW\\KinFaceW-I\\mother-son\\ms_055_2.jpg   \n",
       "2  data\\KinFaceW\\KinFaceW-I\\father-son\\fs_124_1.jpg   \n",
       "3  data\\KinFaceW\\KinFaceW-I\\father-dau\\fd_124_2.jpg   \n",
       "4  data\\KinFaceW\\KinFaceW-I\\father-dau\\fd_055_2.jpg   \n",
       "\n",
       "                                                pos  \n",
       "0  data\\KinFaceW\\KinFaceW-I\\mother-dau\\md_031_2.jpg  \n",
       "1  data\\KinFaceW\\KinFaceW-I\\mother-son\\ms_055_1.jpg  \n",
       "2  data\\KinFaceW\\KinFaceW-I\\father-son\\fs_124_2.jpg  \n",
       "3  data\\KinFaceW\\KinFaceW-I\\father-dau\\fd_124_1.jpg  \n",
       "4  data\\KinFaceW\\KinFaceW-I\\father-dau\\fd_055_1.jpg  "
      ]
     },
     "execution_count": 18,
     "metadata": {},
     "output_type": "execute_result"
    }
   ],
   "source": [
    "anchor_pos_df.head()"
   ]
  },
  {
   "cell_type": "code",
   "execution_count": 19,
   "id": "e35f3423",
   "metadata": {},
   "outputs": [
    {
     "data": {
      "text/html": [
       "<div>\n",
       "<style scoped>\n",
       "    .dataframe tbody tr th:only-of-type {\n",
       "        vertical-align: middle;\n",
       "    }\n",
       "\n",
       "    .dataframe tbody tr th {\n",
       "        vertical-align: top;\n",
       "    }\n",
       "\n",
       "    .dataframe thead th {\n",
       "        text-align: right;\n",
       "    }\n",
       "</style>\n",
       "<table border=\"1\" class=\"dataframe\">\n",
       "  <thead>\n",
       "    <tr style=\"text-align: right;\">\n",
       "      <th></th>\n",
       "      <th>anchor</th>\n",
       "      <th>neg</th>\n",
       "    </tr>\n",
       "  </thead>\n",
       "  <tbody>\n",
       "  </tbody>\n",
       "</table>\n",
       "</div>"
      ],
      "text/plain": [
       "Empty DataFrame\n",
       "Columns: [anchor, neg]\n",
       "Index: []"
      ]
     },
     "execution_count": 19,
     "metadata": {},
     "output_type": "execute_result"
    }
   ],
   "source": [
    "anchor_neg_df.head()"
   ]
  },
  {
   "cell_type": "code",
   "execution_count": 25,
   "id": "a4ae0012",
   "metadata": {},
   "outputs": [],
   "source": [
    "data = {\n",
    "    'index': [],\n",
    "    'class': []\n",
    "}"
   ]
  },
  {
   "cell_type": "code",
   "execution_count": 35,
   "id": "533fa8db",
   "metadata": {},
   "outputs": [],
   "source": [
    "for row in anchor_pos_df.iterrows():\n",
    "    metadata = row[1][1].split('\\\\')\n",
    "    data['index'].append(int(metadata[4][3:6]))\n",
    "    data['class'].append(metadata[3])"
   ]
  },
  {
   "cell_type": "code",
   "execution_count": 37,
   "id": "e0c89dc5",
   "metadata": {},
   "outputs": [],
   "source": [
    "df = pd.DataFrame.from_dict(data)"
   ]
  },
  {
   "cell_type": "code",
   "execution_count": 38,
   "id": "ed9846b3",
   "metadata": {},
   "outputs": [
    {
     "data": {
      "text/html": [
       "<div>\n",
       "<style scoped>\n",
       "    .dataframe tbody tr th:only-of-type {\n",
       "        vertical-align: middle;\n",
       "    }\n",
       "\n",
       "    .dataframe tbody tr th {\n",
       "        vertical-align: top;\n",
       "    }\n",
       "\n",
       "    .dataframe thead th {\n",
       "        text-align: right;\n",
       "    }\n",
       "</style>\n",
       "<table border=\"1\" class=\"dataframe\">\n",
       "  <thead>\n",
       "    <tr style=\"text-align: right;\">\n",
       "      <th></th>\n",
       "      <th>index</th>\n",
       "      <th>class</th>\n",
       "    </tr>\n",
       "  </thead>\n",
       "  <tbody>\n",
       "    <tr>\n",
       "      <th>0</th>\n",
       "      <td>31</td>\n",
       "      <td>mother-dau</td>\n",
       "    </tr>\n",
       "    <tr>\n",
       "      <th>1</th>\n",
       "      <td>55</td>\n",
       "      <td>mother-son</td>\n",
       "    </tr>\n",
       "    <tr>\n",
       "      <th>2</th>\n",
       "      <td>124</td>\n",
       "      <td>father-son</td>\n",
       "    </tr>\n",
       "    <tr>\n",
       "      <th>3</th>\n",
       "      <td>124</td>\n",
       "      <td>father-dau</td>\n",
       "    </tr>\n",
       "    <tr>\n",
       "      <th>4</th>\n",
       "      <td>55</td>\n",
       "      <td>father-dau</td>\n",
       "    </tr>\n",
       "  </tbody>\n",
       "</table>\n",
       "</div>"
      ],
      "text/plain": [
       "   index       class\n",
       "0     31  mother-dau\n",
       "1     55  mother-son\n",
       "2    124  father-son\n",
       "3    124  father-dau\n",
       "4     55  father-dau"
      ]
     },
     "execution_count": 38,
     "metadata": {},
     "output_type": "execute_result"
    }
   ],
   "source": [
    "df.head()"
   ]
  },
  {
   "cell_type": "code",
   "execution_count": 45,
   "id": "782a9430",
   "metadata": {},
   "outputs": [],
   "source": [
    "result = df['class'].value_counts()"
   ]
  },
  {
   "cell_type": "code",
   "execution_count": 77,
   "id": "7d1738e1",
   "metadata": {},
   "outputs": [
    {
     "data": {
      "text/plain": [
       "father-son    1881\n",
       "father-dau    1648\n",
       "mother-son    1466\n",
       "mother-dau    1465\n",
       "Name: class, dtype: int64"
      ]
     },
     "execution_count": 77,
     "metadata": {},
     "output_type": "execute_result"
    }
   ],
   "source": [
    "result"
   ]
  },
  {
   "cell_type": "code",
   "execution_count": 82,
   "id": "35ebc2d8",
   "metadata": {},
   "outputs": [
    {
     "data": {
      "image/png": "[encoded data removed]",
      "text/plain": [
       "<Figure size 640x480 with 1 Axes>"
      ]
     },
     "metadata": {},
     "output_type": "display_data"
    }
   ],
   "source": [
    "plt.plot(result, label=result.keys())\n",
    "plt.show()"
   ]
  },
  {
   "cell_type": "code",
   "execution_count": 84,
   "id": "2486083b",
   "metadata": {},
   "outputs": [
    {
     "name": "stdout",
     "output_type": "stream",
     "text": [
      "father-son    0.291176\n",
      "father-dau    0.255108\n",
      "mother-son    0.226935\n",
      "mother-dau    0.226780\n",
      "Name: class, dtype: float64\n"
     ]
    }
   ],
   "source": [
    "s = np.sum(result)\n",
    "percent = result / s\n",
    "print(percent)"
   ]
  },
  {
   "cell_type": "code",
   "execution_count": 92,
   "id": "962bd73e",
   "metadata": {},
   "outputs": [
    {
     "data": {
      "image/png": "[encoded data removed]",
      "text/plain": [
       "<Figure size 640x480 with 1 Axes>"
      ]
     },
     "metadata": {},
     "output_type": "display_data"
    }
   ],
   "source": [
    "plt.pie(result, labels=result.keys())\n",
    "plt.show()"
   ]
  },
  {
   "cell_type": "code",
   "execution_count": 107,
   "id": "cada517e",
   "metadata": {},
   "outputs": [],
   "source": [
    "classes = result.keys()\n",
    "pics = {}\n",
    "\n",
    "for class_name in classes:\n",
    "    idx = df.loc[df['class'] == class_name]['index'].unique()\n",
    "#     print(idx)\n",
    "#     break\n",
    "    pics[class_name] = np.array(idx)"
   ]
  },
  {
   "cell_type": "code",
   "execution_count": 145,
   "id": "c9c3bb28",
   "metadata": {},
   "outputs": [
    {
     "data": {
      "text/plain": [
       "106"
      ]
     },
     "execution_count": 145,
     "metadata": {},
     "output_type": "execute_result"
    }
   ],
   "source": [
    "len(pics['father-son']) + len(pics['father-dau']) + len(pics['mother-son']) + len(pics['mother-dau'])"
   ]
  },
  {
   "cell_type": "code",
   "execution_count": 110,
   "id": "bc5b0904",
   "metadata": {},
   "outputs": [],
   "source": [
    "REAL_DATA = '..\\\\data\\\\KinFaceWITestFolds.csv'"
   ]
  },
  {
   "cell_type": "code",
   "execution_count": 112,
   "id": "7203f584",
   "metadata": {},
   "outputs": [],
   "source": [
    "real_data_df = pd.read_csv(REAL_DATA)"
   ]
  },
  {
   "cell_type": "code",
   "execution_count": 141,
   "id": "72a22851",
   "metadata": {},
   "outputs": [],
   "source": [
    "all_triplets = {\n",
    "    'parent': set(),\n",
    "    'negative': set()\n",
    "}\n",
    "\n",
    "for row in real_data_df.iterrows():\n",
    "#     print(row)\n",
    "    parent = row[1][1].split('\\\\')\n",
    "    child = row[1][2].split('\\\\')\n",
    "    neg = row[1][3].split('\\\\')\n",
    "#     print(parent[4][:6])\n",
    "    all_triplets['parent'].add(parent[4][:6])\n",
    "    all_triplets['negative'].add(child[4][:6])\n",
    "#     break\n",
    "#     data['index'].append(int(metadata[4][3:6]))\n",
    "#     data['class'].append(metadata[3])"
   ]
  },
  {
   "cell_type": "code",
   "execution_count": 143,
   "id": "8c2a623d",
   "metadata": {},
   "outputs": [
    {
     "data": {
      "text/plain": [
       "106"
      ]
     },
     "execution_count": 143,
     "metadata": {},
     "output_type": "execute_result"
    }
   ],
   "source": [
    "len(all_triplets['negative'])"
   ]
  },
  {
   "cell_type": "code",
   "execution_count": 146,
   "id": "26d35475",
   "metadata": {},
   "outputs": [
    {
     "data": {
      "text/plain": [
       "(44520, 4)"
      ]
     },
     "execution_count": 146,
     "metadata": {},
     "output_type": "execute_result"
    }
   ],
   "source": [
    "real_data_df.shape"
   ]
  },
  {
   "cell_type": "code",
   "execution_count": 148,
   "id": "a34718ce",
   "metadata": {},
   "outputs": [
    {
     "data": {
      "text/plain": [
       "99.76190476190476"
      ]
     },
     "execution_count": 148,
     "metadata": {},
     "output_type": "execute_result"
    }
   ],
   "source": [
    "(1 - (106 / 44520)) * 100"
   ]
  },
  {
   "cell_type": "code",
   "execution_count": 166,
   "id": "62efa0e4",
   "metadata": {},
   "outputs": [
    {
     "data": {
      "text/plain": [
       "44520"
      ]
     },
     "execution_count": 166,
     "metadata": {},
     "output_type": "execute_result"
    }
   ],
   "source": [
    "105 * 2 * 2 * 106"
   ]
  },
  {
   "cell_type": "code",
   "execution_count": null,
   "id": "6cc31ecc",
   "metadata": {},
   "outputs": [],
   "source": []
  }
 ],
 "metadata": {
  "kernelspec": {
   "display_name": "Python 3 (ipykernel)",
   "language": "python",
   "name": "python3"
  },
  "language_info": {
   "codemirror_mode": {
    "name": "ipython",
    "version": 3
   },
   "file_extension": ".py",
   "mimetype": "text/x-python",
   "name": "python",
   "nbconvert_exporter": "python",
   "pygments_lexer": "ipython3",
   "version": "3.8.15"
  }
 },
 "nbformat": 4,
 "nbformat_minor": 5
}
